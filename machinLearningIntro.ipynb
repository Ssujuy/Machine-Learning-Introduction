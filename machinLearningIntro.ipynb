{
  "nbformat": 4,
  "nbformat_minor": 0,
  "metadata": {
    "colab": {
      "provenance": []
    },
    "kernelspec": {
      "name": "python3",
      "display_name": "Python 3"
    },
    "language_info": {
      "name": "python"
    }
  },
  "cells": [
    {
      "cell_type": "markdown",
      "source": [
        "[Ερώτημα 1: Πράξεις με Διανύσματα και Πίνακες]"
      ],
      "metadata": {
        "id": "NwJI38oxQ3S4"
      }
    },
    {
      "cell_type": "markdown",
      "source": [
        "(i)"
      ],
      "metadata": {
        "id": "PWi-17z6Q9eJ"
      }
    },
    {
      "cell_type": "code",
      "execution_count": null,
      "metadata": {
        "colab": {
          "base_uri": "https://localhost:8080/"
        },
        "id": "97nlUM3kAryw",
        "outputId": "9e87264c-2ca3-4b14-c45c-0547c39aa07e"
      },
      "outputs": [
        {
          "output_type": "stream",
          "name": "stdout",
          "text": [
            "Random table of size 3x4\n",
            "\n",
            "X :  [[0.07630829 0.77991879 0.43840923 0.72346518]\n",
            " [0.97798951 0.53849587 0.50112046 0.07205113]\n",
            " [0.26843898 0.4998825  0.67923    0.80373904]]\n",
            "\n",
            "Random table of size 4x3\n",
            "\n",
            "Υ :  [[0.38094113 0.06593635 0.2881456 ]\n",
            " [0.90959353 0.21338535 0.45212396]\n",
            " [0.93120602 0.02489923 0.60054892]\n",
            " [0.9501295  0.23030288 0.54848992]]\n"
          ]
        }
      ],
      "source": [
        "import numpy as np\n",
        "\n",
        "np.random.seed(7)\n",
        "\n",
        "X = np.random.rand(3, 4)\n",
        "print(\"Random table of size 3x4\\n\")\n",
        "print(\"X : \",X)\n",
        "\n",
        "\n",
        "Y = np.random.rand(4, 3)\n",
        "print(\"\\nRandom table of size 4x3\\n\")\n",
        "print(\"Υ : \",Y)"
      ]
    },
    {
      "cell_type": "markdown",
      "source": [
        "(ii)"
      ],
      "metadata": {
        "id": "-cNAy7ZZREaY"
      }
    },
    {
      "cell_type": "code",
      "source": [
        "a = []\n",
        "b = []\n",
        "\n",
        "for i in range(0,4) :\n",
        "  a.append(np.random.randint(1,10000))\n",
        "  b.append(np.random.randint(1,100000))\n",
        "\n",
        "print(\"Random vector\\n\")\n",
        "print(\"a : \",a)\n",
        "print(\"\\nRandom vector\\n\")\n",
        "print(\"b : \",b)\n"
      ],
      "metadata": {
        "colab": {
          "base_uri": "https://localhost:8080/"
        },
        "id": "P2fruWnFBgmR",
        "outputId": "54721cc4-9962-483d-956f-7ac76c92351f"
      },
      "execution_count": null,
      "outputs": [
        {
          "output_type": "stream",
          "name": "stdout",
          "text": [
            "Random vector\n",
            "\n",
            "a :  [8965, 9354, 7652, 7241]\n",
            "\n",
            "Random vector\n",
            "\n",
            "b :  [31215, 16216, 25796, 98132]\n"
          ]
        }
      ]
    },
    {
      "cell_type": "markdown",
      "source": [
        "1.1"
      ],
      "metadata": {
        "id": "BLiXny0uRNFf"
      }
    },
    {
      "cell_type": "code",
      "source": [
        "a_np = np.array(a)\n",
        "b_np = np.array(b)\n",
        "\n",
        "ab = a_np * b_np\n",
        "\n",
        "print(ab)"
      ],
      "metadata": {
        "colab": {
          "base_uri": "https://localhost:8080/"
        },
        "id": "knr7vfabCnOY",
        "outputId": "2f76c0f1-39e7-4835-83a6-dc425dd60923"
      },
      "execution_count": null,
      "outputs": [
        {
          "output_type": "stream",
          "name": "stdout",
          "text": [
            "[279842475 151684464 197390992 710573812]\n"
          ]
        }
      ]
    },
    {
      "cell_type": "markdown",
      "source": [
        "1.2"
      ],
      "metadata": {
        "id": "vYAEyw3eRQ_P"
      }
    },
    {
      "cell_type": "code",
      "source": [
        "aX = a * X\n",
        "\n",
        "print(aX)"
      ],
      "metadata": {
        "colab": {
          "base_uri": "https://localhost:8080/"
        },
        "id": "yHbEqSsgDHX7",
        "outputId": "70195f6d-0bc2-4302-b211-f38ed1728366"
      },
      "execution_count": null,
      "outputs": [
        {
          "output_type": "stream",
          "name": "stdout",
          "text": [
            "[[ 684.10381424 7295.36038261 3354.70743899 5238.61135267]\n",
            " [8767.67597505 5037.09037182 3834.57378793  521.72225666]\n",
            " [2406.55545661 4675.90091272 5197.46793032 5819.87436043]]\n"
          ]
        }
      ]
    },
    {
      "cell_type": "markdown",
      "source": [
        "1.3"
      ],
      "metadata": {
        "id": "0gpZF_kERSvM"
      }
    },
    {
      "cell_type": "code",
      "source": [
        "XY = np.dot(X,Y)\n",
        "\n",
        "print(XY)"
      ],
      "metadata": {
        "colab": {
          "base_uri": "https://localhost:8080/"
        },
        "id": "ZV2cIg-sECVa",
        "outputId": "48a7bcd3-f56b-409e-dec7-1926f6d95d5d"
      },
      "execution_count": null,
      "outputs": [
        {
          "output_type": "stream",
          "name": "stdout",
          "text": [
            "[[1.83411298 0.3489869  1.03470742]\n",
            " [1.39747309 0.20846328 0.86573693]\n",
            " [1.95310857 0.32638321 1.15211197]]\n"
          ]
        }
      ]
    },
    {
      "cell_type": "markdown",
      "source": [
        "1.4"
      ],
      "metadata": {
        "id": "9PV1NQ7yRVUK"
      }
    },
    {
      "cell_type": "code",
      "source": [
        "l2_norm_a = np.linalg.norm(a)\n",
        "\n",
        "print(l2_norm_a)"
      ],
      "metadata": {
        "colab": {
          "base_uri": "https://localhost:8080/"
        },
        "id": "QkR0nJYuHEMn",
        "outputId": "b1c802f5-1e79-49d9-c3d5-229ea06276ee"
      },
      "execution_count": null,
      "outputs": [
        {
          "output_type": "stream",
          "name": "stdout",
          "text": [
            "16698.91391677914\n"
          ]
        }
      ]
    },
    {
      "cell_type": "markdown",
      "source": [
        "[Ερώτημα 3: Gradient descent]"
      ],
      "metadata": {
        "id": "RY2eodoLRXAB"
      }
    },
    {
      "cell_type": "code",
      "source": [
        "import numpy as np\n",
        "import matplotlib.pyplot as plt\n",
        "\n",
        "def gradient_descent(f, df, x_init, learning_rate, max_iter, tolerance):\n",
        "    # Initialize the solution and iteration counter\n",
        "    x = x_init\n",
        "    iter_count = 0\n",
        "    y = []\n",
        "\n",
        "    # Perform gradient descent until the maximum number of iterations is reached\n",
        "    while iter_count < max_iter:\n",
        "\n",
        "        # Calculate the gradient of the function at the current point\n",
        "        grad = df(x)\n",
        "\n",
        "        # Update the solution using the gradient and learning rate\n",
        "        x_next = x - learning_rate * grad\n",
        "\n",
        "        # Check the tolerance level to stop the algorithm\n",
        "        if np.linalg.norm(x_next - x) < tolerance:\n",
        "            break\n",
        "\n",
        "        # Update the solution, y array, and iteration counter\n",
        "        x = x_next\n",
        "        y.append(f(x))\n",
        "        iter_count += 1\n",
        "\n",
        "    return x, y\n",
        "\n",
        "# Define the functions to optimize\n",
        "\n",
        "def f1(x):\n",
        "    return (x[0] - 2)**2 + (x[1] - 3)**2\n",
        "\n",
        "def df1(x):\n",
        "    return np.array([2*(x[0]-2), 2*(x[1]-3)])\n",
        "\n",
        "def f2(x):\n",
        "    # Scale the input variables\n",
        "    x_scaled = (x - np.array([-3, 3])) / 10\n",
        "    return (1 - (x_scaled[1]))**2 + 20*((x_scaled[0]) - (x_scaled[1])**2)**2\n",
        "\n",
        "def df2(x):\n",
        "    # Scale the input variables\n",
        "    x_scaled = (x - np.array([-3, 3])) / 10\n",
        "    return np.array([40*(x_scaled[0] - x_scaled[1]**2), -40*(x_scaled[1])*(2*x_scaled[1] - x_scaled[0] + 1)])\n",
        "\n",
        "# Perform the optimization using Gradient Descent\n",
        "\n",
        "x_init = np.array([0,0])\n",
        "learning_rate = 0.01\n",
        "max_iter = 10000\n",
        "tolerance = 1e-6\n",
        "\n",
        "# Optimize f1 and plot the results\n",
        "x_opt1, y1 = gradient_descent(f1, df1, x_init, learning_rate, max_iter, tolerance)\n",
        "print(\"\\nOptimized solution for f1:\", x_opt1)\n",
        "plt.plot(range(len(y1)), y1)\n",
        "plt.title(\"Optimization of f1 using Gradient Descent\")\n",
        "plt.xlabel(\"Iterations\")\n",
        "plt.ylabel(\"Function Value\")\n",
        "plt.show()\n",
        "\n",
        "# Optimize f2 and plot the results\n",
        "x_opt2, y2 = gradient_descent(f2, df2, x_init, learning_rate, max_iter, tolerance)\n",
        "print(\"\\nOptimized solution for f2:\", x_opt2)\n",
        "plt.plot(range(len(y2)), y2)\n",
        "plt.title(\"Optimization of f2 using Gradient Descent\")\n",
        "plt.xlabel(\"Iterations\")\n",
        "plt.ylabel(\"Function Value\")\n",
        "plt.show()\n"
      ],
      "metadata": {
        "id": "XROVTMi7HjzT",
        "colab": {
          "base_uri": "https://localhost:8080/",
          "height": 998
        },
        "outputId": "56df66d7-812c-466a-ab64-58f4523eb54b"
      },
      "execution_count": null,
      "outputs": [
        {
          "output_type": "stream",
          "name": "stdout",
          "text": [
            "\n",
            "Optimized solution for f1: [1.99997244 2.99995866]\n"
          ]
        },
        {
          "output_type": "display_data",
          "data": {
            "text/plain": [
              "<Figure size 640x480 with 1 Axes>"
            ],
            "image/png": "[encoded data removed]"
          },
          "metadata": {}
        },
        {
          "output_type": "stream",
          "name": "stdout",
          "text": [
            "\n",
            "Optimized solution for f2: [-1.28428405 -1.14211345]\n"
          ]
        },
        {
          "output_type": "display_data",
          "data": {
            "text/plain": [
              "<Figure size 640x480 with 1 Axes>"
            ],
            "image/png": "[encoded data removed]"
          },
          "metadata": {}
        }
      ]
    },
    {
      "cell_type": "markdown",
      "source": [
        "(α) Αυξάνοντας σταδιακά από τις 10 επαναλήψεις στις 100, 500, 1000 , κατέληξα στις 10000 επαναλήψεις για να συγκλίνει ο αλγόριθμος σε στάσιμο σημείο . Αξίζει να αναφερθεί ότι για τις αρχικές τιμές max_iter=10 learning_rate=0.5 η f2 κάνει overflow.\n",
        "\n",
        "(β) Για μεγάλες τιμές του learning rate(όταν τείνει στο 1) , παρατήρησα ότι ο αλγόριθμος δεν καταφέρνει να συγκλίσει σε στάσιμο σημείο και οι τιμές των f1,f2 δεν μικραίνουν.\n",
        "\n",
        "(γ) Μικραίνοντας πολύ την τιμή του learning rate , παρατήρησα ότι οι τιμές τις f1,f2 αρχίζουν να τείνουν στο μηδέν.\n",
        "\n",
        "(δ) Παρατηρώ ότι μεγαλώνοντας την χ μεταβλητή η f2 συγκλίνει πιο γρήγορα σε στάσιμο σημείο και μάλιστα σε διαφορετικό στάσιμο σημείο ενώ η f1 φαίνεται να μην επηρεάζεται."
      ],
      "metadata": {
        "id": "-j_EqyL9r3xr"
      }
    }
  ]
}